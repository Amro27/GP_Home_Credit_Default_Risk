{
 "cells": [
  {
   "cell_type": "markdown",
   "metadata": {},
   "source": [
    "# Import Needed Liberaries"
   ]
  },
  {
   "cell_type": "code",
   "execution_count": 1,
   "metadata": {},
   "outputs": [],
   "source": [
    "import numpy as np\n",
    "import pandas as pd\n",
    "import matplotlib.pyplot as plt\n",
    "import seaborn as sns\n",
    "%matplotlib inline"
   ]
  },
  {
   "cell_type": "markdown",
   "metadata": {},
   "source": [
    "# Read (application_train, application_test) files"
   ]
  },
  {
   "cell_type": "code",
   "execution_count": 2,
   "metadata": {},
   "outputs": [],
   "source": [
    "df = pd.read_csv('application_train.csv')\n",
    "df1 = pd.read_csv('application_test.csv')"
   ]
  },
  {
   "cell_type": "code",
   "execution_count": 3,
   "metadata": {},
   "outputs": [],
   "source": [
    "# make a label as to whether the instance belongs to train to test dataset\n",
    "df['is_train'] = 1\n",
    "df1['is_train'] = 0\n",
    "\n",
    "# target for train data\n",
    "trainY = df['TARGET']\n",
    "df.drop('TARGET',axis=1,inplace=True)\n",
    "\n",
    "\n",
    "# test id \n",
    "testID = df1['SK_ID_CURR']\n",
    "\n",
    "data = pd.concat([df,df1],axis=0)"
   ]
  },
  {
   "cell_type": "markdown",
   "metadata": {},
   "source": [
    "## Some Processing & Preparation on Files"
   ]
  },
  {
   "cell_type": "code",
   "execution_count": 4,
   "metadata": {},
   "outputs": [
    {
     "name": "stdout",
     "output_type": "stream",
     "text": [
      "365243\n",
      "\n",
      "0\n"
     ]
    }
   ],
   "source": [
    "print(df['DAYS_EMPLOYED'].mode()[0], df['DAYS_EMPLOYED'].isnull().sum(), sep='\\n\\n')"
   ]
  },
  {
   "cell_type": "code",
   "execution_count": 5,
   "metadata": {},
   "outputs": [],
   "source": [
    "df['DAYS_EMPLOYED'].replace(365243, np.nan, inplace= True)"
   ]
  },
  {
   "cell_type": "code",
   "execution_count": 4,
   "metadata": {},
   "outputs": [],
   "source": [
    "def prepare_df(data):\n",
    "    data['NEW_CREDIT_TO_ANNUITY_RATIO'] = data['AMT_CREDIT'] / data['AMT_ANNUITY']\n",
    "    data['NEW_CREDIT_TO_GOODS_RATIO'] = data['AMT_CREDIT'] / data['AMT_GOODS_PRICE']\n",
    "    data['NEW_ANNUITY_TO_INCOME_RATIO'] = data['AMT_ANNUITY'] / data['AMT_INCOME_TOTAL']\n",
    "    data['NEW_CREDIT_TO_INCOME_RATIO'] = data['AMT_CREDIT'] / data['AMT_INCOME_TOTAL']\n",
    "\n",
    "    data['CNT_FAM_MEMBERS'].fillna(data['CNT_FAM_MEMBERS'].median(),inplace=True)\n",
    "    data['NEW_INC_PER_MEMB'] = data['AMT_INCOME_TOTAL'] / data['CNT_FAM_MEMBERS']\n",
    "    data['NEW_INC_PER_CHLD'] = data['AMT_INCOME_TOTAL'] / (1 + data['CNT_CHILDREN'])\n",
    "\n",
    "    data['NEW_EMPLOY_TO_BIRTH_RATIO'] = data['DAYS_EMPLOYED'] / data['DAYS_BIRTH']\n",
    "    data['NEW_CAR_TO_BIRTH_RATIO'] = data['OWN_CAR_AGE'] / data['DAYS_BIRTH']\n",
    "    data['NEW_CAR_TO_EMPLOY_RATIO'] = data['OWN_CAR_AGE'] / data['DAYS_EMPLOYED']\n",
    "    data['NEW_PHONE_TO_BIRTH_RATIO'] = data['DAYS_LAST_PHONE_CHANGE'] / data['DAYS_BIRTH']\n",
    "\n",
    "    data['NEW_SOURCES_PROD'] = data['EXT_SOURCE_1'] * data['EXT_SOURCE_2'] * data['EXT_SOURCE_3']\n",
    "    data['NEW_EXT_SOURCES_MEAN'] = data[['EXT_SOURCE_1', 'EXT_SOURCE_2', 'EXT_SOURCE_3']].mean(axis=1)\n",
    "    data['NEW_SCORES_STD'] = data[['EXT_SOURCE_1', 'EXT_SOURCE_2', 'EXT_SOURCE_3']].std(axis=1)\n",
    "    data['NEW_SCORES_STD'].fillna(data['NEW_SCORES_STD'].mean(),inplace=True)\n",
    "    \n",
    "    return data"
   ]
  },
  {
   "cell_type": "code",
   "execution_count": 5,
   "metadata": {},
   "outputs": [],
   "source": [
    "def remove_outliers(df):\n",
    "#     d1 = df.select_dtypes(include='O')\n",
    "#     df = df.select_dtypes(exclude='O')\n",
    "    Q1 = df.quantile(0.25)\n",
    "    Q3 = df.quantile(0.75)\n",
    "    IQR = Q3 - Q1\n",
    "    df = df[~(df < (Q1 - 1.5 * IQR)) | (df > (Q3 + 1.5 * IQR))]\n",
    "#     df = pd.concat([df, d1], axis=1)\n",
    "    return df"
   ]
  },
  {
   "cell_type": "code",
   "execution_count": 6,
   "metadata": {},
   "outputs": [],
   "source": [
    "def process_df(df, raw=False):\n",
    "    df_nan = df[df.columns[df.isnull().any()]]\n",
    "    df_na = df_nan[df_nan.columns[df_nan.isnull().mean()*100 < 50]]\n",
    "    df_not_nan = df[df.columns[~df.isnull().any()]]\n",
    "    df_na_cat = df_na.select_dtypes(include='O')\n",
    "    for col in df_na_cat:\n",
    "        df_na_cat[col].fillna(df_na_cat[col].mode()[0], inplace=True)\n",
    "    df_na_num = df_na.select_dtypes(exclude='O')\n",
    "    df_na_num = remove_outliers(df_na_num)\n",
    "    df_na_num = df_na_num.fillna(df_na_num.mean())\n",
    "#     if raw:\n",
    "#         df = pd.concat([df_not_nan.drop('SK_ID_CURR', axis=1), df_na_cat, df_na_num], axis=1)\n",
    "#     else:\n",
    "    df = pd.concat([df_not_nan, df_na_cat, df_na_num], axis=1)\n",
    "    df = pd.get_dummies(df, drop_first=True)\n",
    "    return df"
   ]
  },
  {
   "cell_type": "code",
   "execution_count": 7,
   "metadata": {},
   "outputs": [],
   "source": [
    "# examine fraction of missing value in each attribute\n",
    "def missing_df(df):\n",
    "        \"\"\"\n",
    "        return a data frame containing the statistics of missing value\n",
    "        \"\"\"\n",
    "        \n",
    "        total = df.isnull().sum().sort_values(ascending=False)\n",
    "        fraction = 100 * total / df.shape[0]\n",
    "        \n",
    "        # keep to two decimal places\n",
    "        fraction = fraction.apply(lambda x: round(x,2))\n",
    "        \n",
    "        df_missing = pd.concat([total,fraction], axis=1, keys=['Total','Fraction'])\n",
    "        df_missing.index.name = 'Attributes'\n",
    "        \n",
    "        return df_missing\n",
    "    \n",
    "    \n",
    "def cut_missing_fea(df, mis_threshold=50):\n",
    "    \"\"\"\n",
    "    cut off features with ratio of missing values bigger than 60%\n",
    "    \"\"\"\n",
    "    missing = missing_df(df)\n",
    "    keep_fea = missing[missing['Fraction']<mis_threshold].index\n",
    "\n",
    "    return df[keep_fea]\n",
    "\n",
    "\n",
    "    \n",
    "def prepare_data(df, group_var, prefix):\n",
    "    \n",
    "    # cut off featues with too much missing values\n",
    "    df = cut_missing_fea(df)\n",
    "    \n",
    "    # if only one or two categories, factorize()\n",
    "    for col in df:\n",
    "        if df[col].dtype == 'object' and len(list(df[col].unique())) <= 2:\n",
    "            df.loc[:,col], _ = pd.factorize(df[col])\n",
    "    \n",
    "    # one hot encoding if more than two categories, including Null\n",
    "    df = pd.get_dummies(df,dummy_na=True)\n",
    "    \n",
    "    # compute sum, mean, std for each column\n",
    "    d1 = df.drop([group_var],axis=1).groupby('SK_ID_CURR').agg(['sum','mean','std'])\n",
    "    d1.columns = ['_'.join(col).strip('_ ') for col in d1.columns.values]\n",
    "    d1.add_prefix(prefix+'_')\n",
    "    \n",
    "    # count group_var for each SK_ID_CURR\n",
    "    d2 = df[['SK_ID_CURR',group_var]].groupby('SK_ID_CURR').count()\n",
    "    \n",
    "    # merge \n",
    "    df = pd.merge(d1,d2,left_index=True,right_index=True,how='left')\n",
    "    \n",
    "    # add prefix\n",
    "    df = df.add_prefix(prefix+'_')\n",
    "    \n",
    "    return df.reset_index()\n",
    "    "
   ]
  },
  {
   "cell_type": "code",
   "execution_count": 10,
   "metadata": {},
   "outputs": [],
   "source": [
    "data = prepare_df(data)"
   ]
  },
  {
   "cell_type": "markdown",
   "metadata": {},
   "source": [
    "## Processing & Merging the Files with the Data"
   ]
  },
  {
   "cell_type": "code",
   "execution_count": 11,
   "metadata": {},
   "outputs": [],
   "source": [
    "bureau = pd.read_csv('bureau.csv')\n",
    "bureau_balance = pd.read_csv('bureau_balance.csv')"
   ]
  },
  {
   "cell_type": "code",
   "execution_count": 12,
   "metadata": {},
   "outputs": [],
   "source": [
    "bureau_balance['STATUS'] = bureau_balance['STATUS'].replace(['C','X'],'0').apply(lambda x:int(x))\n",
    "bb = bureau_balance['STATUS'].groupby(bureau_balance['SK_ID_BUREAU']).sum().to_frame()\n",
    "\n",
    "# merge the sum of DPD\n",
    "bureau = pd.merge(bureau,bb,left_on='SK_ID_BUREAU',right_index=True,how='left')"
   ]
  },
  {
   "cell_type": "code",
   "execution_count": 13,
   "metadata": {},
   "outputs": [],
   "source": [
    "bureau = process_df(bureau)\n",
    "#bureau_balance = process_df(bureau_balance)"
   ]
  },
  {
   "cell_type": "code",
   "execution_count": 14,
   "metadata": {},
   "outputs": [
    {
     "name": "stdout",
     "output_type": "stream",
     "text": [
      "bureau.shape =  (305811, 92)\n"
     ]
    },
    {
     "data": {
      "text/plain": [
       "(356255, 226)"
      ]
     },
     "execution_count": 14,
     "metadata": {},
     "output_type": "execute_result"
    }
   ],
   "source": [
    "bureau = prepare_data(bureau,group_var='SK_ID_BUREAU',prefix='bureau')\n",
    "print(\"bureau.shape = \",bureau.shape)\n",
    "\n",
    "\n",
    "# merge with  data\n",
    "data = pd.merge(data,bureau,how='left')\n",
    "data.shape"
   ]
  },
  {
   "cell_type": "code",
   "execution_count": 15,
   "metadata": {},
   "outputs": [],
   "source": [
    "del bureau, bureau_balance"
   ]
  },
  {
   "cell_type": "code",
   "execution_count": 16,
   "metadata": {},
   "outputs": [],
   "source": [
    "prev_app = pd.read_csv('previous_application.csv')"
   ]
  },
  {
   "cell_type": "code",
   "execution_count": 17,
   "metadata": {},
   "outputs": [],
   "source": [
    "col_DAYS = []\n",
    "for col in prev_app:\n",
    "    if 'DAYS' in col:\n",
    "        col_DAYS.append(col)\n",
    "\n",
    "for col in col_DAYS:\n",
    "    prev_app[col].replace(365243,np.nan,inplace=True)\n",
    "del col_DAYS"
   ]
  },
  {
   "cell_type": "code",
   "execution_count": 18,
   "metadata": {},
   "outputs": [
    {
     "name": "stderr",
     "output_type": "stream",
     "text": [
      "D:\\Amr\\Python36\\python-3.6.5.amd64\\lib\\site-packages\\pandas\\core\\generic.py:5430: SettingWithCopyWarning: \n",
      "A value is trying to be set on a copy of a slice from a DataFrame\n",
      "\n",
      "See the caveats in the documentation: http://pandas.pydata.org/pandas-docs/stable/indexing.html#indexing-view-versus-copy\n",
      "  self._update_inplace(new_data)\n"
     ]
    },
    {
     "name": "stdout",
     "output_type": "stream",
     "text": [
      "prev_app.shape =  (338857, 419)\n"
     ]
    },
    {
     "data": {
      "text/plain": [
       "(356255, 644)"
      ]
     },
     "execution_count": 18,
     "metadata": {},
     "output_type": "execute_result"
    }
   ],
   "source": [
    "prev_app = process_df(prev_app)\n",
    "prev_app = prepare_data(prev_app,group_var='SK_ID_PREV',prefix='prev_app')\n",
    "print(\"prev_app.shape = \",prev_app.shape)\n",
    "\n",
    "data = pd.merge(data,prev_app,how='left')\n",
    "data.shape"
   ]
  },
  {
   "cell_type": "code",
   "execution_count": 19,
   "metadata": {},
   "outputs": [],
   "source": [
    "pos_bal = pd.read_csv('POS_CASH_balance.csv')"
   ]
  },
  {
   "cell_type": "code",
   "execution_count": 20,
   "metadata": {},
   "outputs": [
    {
     "name": "stdout",
     "output_type": "stream",
     "text": [
      "pos_bal.shape =  (337252, 41)\n"
     ]
    },
    {
     "data": {
      "text/plain": [
       "(356255, 684)"
      ]
     },
     "execution_count": 20,
     "metadata": {},
     "output_type": "execute_result"
    }
   ],
   "source": [
    "pos_bal = process_df(pos_bal)\n",
    "pos_bal = prepare_data(pos_bal,group_var='SK_ID_PREV',prefix='pos')\n",
    "print(\"pos_bal.shape = \",pos_bal.shape)\n",
    "\n",
    "# merge with  data\n",
    "data = pd.merge(data,pos_bal,how='left')\n",
    "data.shape"
   ]
  },
  {
   "cell_type": "code",
   "execution_count": 21,
   "metadata": {},
   "outputs": [],
   "source": [
    "del pos_bal, prev_app"
   ]
  },
  {
   "cell_type": "code",
   "execution_count": 22,
   "metadata": {},
   "outputs": [],
   "source": [
    "install_pay = pd.read_csv('installments_payments.csv')"
   ]
  },
  {
   "cell_type": "code",
   "execution_count": 23,
   "metadata": {},
   "outputs": [
    {
     "name": "stdout",
     "output_type": "stream",
     "text": [
      "install_pay.shape =  (339587, 20)\n"
     ]
    },
    {
     "data": {
      "text/plain": [
       "(356255, 703)"
      ]
     },
     "execution_count": 23,
     "metadata": {},
     "output_type": "execute_result"
    }
   ],
   "source": [
    "install_pay = process_df(install_pay)\n",
    "install_pay = prepare_data(install_pay,group_var='SK_ID_PREV',prefix='install')\n",
    "print(\"install_pay.shape = \",install_pay.shape)\n",
    "\n",
    "# merge with  data\n",
    "data = pd.merge(data,install_pay,how='left')\n",
    "data.shape"
   ]
  },
  {
   "cell_type": "code",
   "execution_count": 24,
   "metadata": {},
   "outputs": [],
   "source": [
    "credit_bal = pd.read_csv('credit_card_balance.csv')"
   ]
  },
  {
   "cell_type": "code",
   "execution_count": 25,
   "metadata": {},
   "outputs": [
    {
     "name": "stdout",
     "output_type": "stream",
     "text": [
      "credit_bal.shape =  (103558, 80)\n"
     ]
    },
    {
     "data": {
      "text/plain": [
       "(356255, 782)"
      ]
     },
     "execution_count": 25,
     "metadata": {},
     "output_type": "execute_result"
    }
   ],
   "source": [
    "credit_bal = process_df(credit_bal)\n",
    "credit_bal = prepare_data(credit_bal,group_var='SK_ID_PREV',prefix='credit')\n",
    "print(\"credit_bal.shape = \",credit_bal.shape)\n",
    "\n",
    "# merge with  data\n",
    "data = pd.merge(data,credit_bal,how='left')\n",
    "data.shape"
   ]
  },
  {
   "cell_type": "code",
   "execution_count": 26,
   "metadata": {},
   "outputs": [],
   "source": [
    "del credit_bal, install_pay"
   ]
  },
  {
   "cell_type": "markdown",
   "metadata": {},
   "source": [
    "## Save the Data"
   ]
  },
  {
   "cell_type": "code",
   "execution_count": 28,
   "metadata": {},
   "outputs": [],
   "source": [
    "data.to_csv(\"data.csv\")"
   ]
  },
  {
   "cell_type": "code",
   "execution_count": 8,
   "metadata": {},
   "outputs": [],
   "source": [
    "#data = pd.read_csv('data.csv')"
   ]
  },
  {
   "cell_type": "markdown",
   "metadata": {},
   "source": [
    "## get_dummies for Catagorical Features"
   ]
  },
  {
   "cell_type": "code",
   "execution_count": 9,
   "metadata": {},
   "outputs": [],
   "source": [
    "data = pd.get_dummies(data, drop_first=True)"
   ]
  },
  {
   "cell_type": "markdown",
   "metadata": {},
   "source": [
    "# Split Data to Train & Test"
   ]
  },
  {
   "cell_type": "code",
   "execution_count": 10,
   "metadata": {},
   "outputs": [],
   "source": [
    "ignore_features = ['SK_ID_CURR', 'is_train']\n",
    "relevant_features = [col for col in data.columns if col not in ignore_features]\n",
    "trainX = data[data['is_train'] == 1][relevant_features]\n",
    "testX = data[data['is_train'] == 0][relevant_features]"
   ]
  },
  {
   "cell_type": "code",
   "execution_count": 37,
   "metadata": {},
   "outputs": [],
   "source": [
    "# del data"
   ]
  },
  {
   "cell_type": "markdown",
   "metadata": {},
   "source": [
    "## Impute the missing values"
   ]
  },
  {
   "cell_type": "code",
   "execution_count": 11,
   "metadata": {},
   "outputs": [],
   "source": [
    "from sklearn.preprocessing import Imputer\n",
    "\n",
    "imputer = Imputer(strategy=\"median\")\n",
    "imputer.fit(trainX)\n",
    "trainX = imputer.transform(trainX)\n",
    "testX = imputer.transform(testX)"
   ]
  },
  {
   "cell_type": "markdown",
   "metadata": {},
   "source": [
    "## Scale the Data Using StandardScaler"
   ]
  },
  {
   "cell_type": "code",
   "execution_count": 12,
   "metadata": {},
   "outputs": [],
   "source": [
    "from sklearn.preprocessing import StandardScaler\n",
    "\n",
    "scaler = StandardScaler()\n",
    "scaler.fit(trainX)\n",
    "trainX, testX = scaler.transform(trainX), scaler.transform(testX)"
   ]
  },
  {
   "cell_type": "markdown",
   "metadata": {},
   "source": [
    "## PCA (Not Great Option)"
   ]
  },
  {
   "cell_type": "code",
   "execution_count": 12,
   "metadata": {},
   "outputs": [
    {
     "data": {
      "text/plain": [
       "PCA(copy=True, iterated_power='auto', n_components=None, random_state=None,\n",
       "  svd_solver='auto', tol=0.0, whiten=False)"
      ]
     },
     "execution_count": 12,
     "metadata": {},
     "output_type": "execute_result"
    }
   ],
   "source": [
    "# from sklearn.decomposition import PCA\n",
    "\n",
    "# pca = PCA()\n",
    "# pca.fit(trainX)"
   ]
  },
  {
   "cell_type": "code",
   "execution_count": 13,
   "metadata": {},
   "outputs": [
    {
     "data": {
      "image/png": "[encoded data removed]",
      "text/plain": [
       "<Figure size 432x288 with 1 Axes>"
      ]
     },
     "metadata": {},
     "output_type": "display_data"
    }
   ],
   "source": [
    "# plt.plot(np.cumsum(pca.explained_variance_ratio_))\n",
    "# plt.xlabel('number of components')\n",
    "# plt.ylabel('cumulative explained variance')\n",
    "# plt.show()"
   ]
  },
  {
   "cell_type": "code",
   "execution_count": 15,
   "metadata": {},
   "outputs": [],
   "source": [
    "# pca = PCA(n_components=400)\n",
    "# trainX, testX = pca.fit_transform(trainX), pca.fit_transform(testX)"
   ]
  },
  {
   "cell_type": "markdown",
   "metadata": {},
   "source": [
    "## Split Data to Train & Test"
   ]
  },
  {
   "cell_type": "code",
   "execution_count": 13,
   "metadata": {},
   "outputs": [
    {
     "name": "stderr",
     "output_type": "stream",
     "text": [
      "D:\\Amr\\Python36\\python-3.6.5.amd64\\lib\\site-packages\\sklearn\\cross_validation.py:41: DeprecationWarning: This module was deprecated in version 0.18 in favor of the model_selection module into which all the refactored classes and functions are moved. Also note that the interface of the new CV iterators are different from that of this module. This module will be removed in 0.20.\n",
      "  \"This module will be removed in 0.20.\", DeprecationWarning)\n"
     ]
    }
   ],
   "source": [
    "from sklearn.cross_validation import train_test_split\n",
    "\n",
    "x_train, x_val, y_train, y_val = train_test_split(trainX, trainY, test_size=0.2, random_state=42)"
   ]
  },
  {
   "cell_type": "markdown",
   "metadata": {},
   "source": [
    "## Random Forest"
   ]
  },
  {
   "cell_type": "code",
   "execution_count": 18,
   "metadata": {},
   "outputs": [
    {
     "name": "stderr",
     "output_type": "stream",
     "text": [
      "[Parallel(n_jobs=-1)]: Done  42 tasks      | elapsed:  1.5min\n",
      "[Parallel(n_jobs=-1)]: Done 100 out of 100 | elapsed:  3.5min finished\n"
     ]
    },
    {
     "data": {
      "text/plain": [
       "RandomForestClassifier(bootstrap=True, class_weight=None, criterion='gini',\n",
       "            max_depth=None, max_features='auto', max_leaf_nodes=None,\n",
       "            min_impurity_decrease=0.0, min_impurity_split=None,\n",
       "            min_samples_leaf=1, min_samples_split=2,\n",
       "            min_weight_fraction_leaf=0.0, n_estimators=100, n_jobs=-1,\n",
       "            oob_score=False, random_state=50, verbose=1, warm_start=False)"
      ]
     },
     "execution_count": 18,
     "metadata": {},
     "output_type": "execute_result"
    }
   ],
   "source": [
    "from sklearn.ensemble import RandomForestClassifier\n",
    "from sklearn.metrics import roc_auc_score, accuracy_score\n",
    "\n",
    "# Make the random forest classifier\n",
    "random_forest = RandomForestClassifier(n_estimators = 100, random_state = 50, verbose = 1, n_jobs = -1)\n",
    "# Train on the training data\n",
    "random_forest.fit(x_train,y_train)"
   ]
  },
  {
   "cell_type": "code",
   "execution_count": 19,
   "metadata": {},
   "outputs": [
    {
     "name": "stderr",
     "output_type": "stream",
     "text": [
      "[Parallel(n_jobs=4)]: Done  42 tasks      | elapsed:    0.7s\n"
     ]
    },
    {
     "name": "stdout",
     "output_type": "stream",
     "text": [
      "0.7266118010882912\n"
     ]
    },
    {
     "name": "stderr",
     "output_type": "stream",
     "text": [
      "[Parallel(n_jobs=4)]: Done 100 out of 100 | elapsed:    1.7s finished\n"
     ]
    }
   ],
   "source": [
    "# Make predictions on the test data\n",
    "Y_score = random_forest.predict_proba(x_val)\n",
    "print(roc_auc_score(y_val,Y_score[:,1]))"
   ]
  },
  {
   "cell_type": "code",
   "execution_count": 20,
   "metadata": {},
   "outputs": [
    {
     "name": "stderr",
     "output_type": "stream",
     "text": [
      "[Parallel(n_jobs=4)]: Done  42 tasks      | elapsed:    0.7s\n",
      "[Parallel(n_jobs=4)]: Done 100 out of 100 | elapsed:    1.7s finished\n"
     ]
    },
    {
     "data": {
      "text/plain": [
       "0.9195811586426679"
      ]
     },
     "execution_count": 20,
     "metadata": {},
     "output_type": "execute_result"
    }
   ],
   "source": [
    "pred = random_forest.predict(x_val)\n",
    "accuracy_score(pred,y_val)"
   ]
  },
  {
   "cell_type": "markdown",
   "metadata": {},
   "source": [
    "# Lightgbm"
   ]
  },
  {
   "cell_type": "code",
   "execution_count": 14,
   "metadata": {},
   "outputs": [],
   "source": [
    "import lightgbm as lgb\n",
    "lgb_train = lgb.Dataset(data=x_train, label=y_train)\n",
    "lgb_eval = lgb.Dataset(data=x_val, label=y_val)"
   ]
  },
  {
   "cell_type": "code",
   "execution_count": 15,
   "metadata": {
    "collapsed": true
   },
   "outputs": [
    {
     "name": "stderr",
     "output_type": "stream",
     "text": [
      "D:\\Amr\\Python36\\python-3.6.5.amd64\\lib\\site-packages\\lightgbm\\engine.py:148: UserWarning: Found `num_iteration` in params. Will use it instead of argument\n",
      "  warnings.warn(\"Found `{}` in params. Will use it instead of argument\".format(alias))\n"
     ]
    },
    {
     "name": "stdout",
     "output_type": "stream",
     "text": [
      "Training until validation scores don't improve for 100 rounds\n",
      "[20]\tvalid_0's auc: 0.740811\n",
      "[40]\tvalid_0's auc: 0.74371\n",
      "[60]\tvalid_0's auc: 0.746687\n",
      "[80]\tvalid_0's auc: 0.749041\n",
      "[100]\tvalid_0's auc: 0.75122\n",
      "[120]\tvalid_0's auc: 0.753369\n",
      "[140]\tvalid_0's auc: 0.755512\n",
      "[160]\tvalid_0's auc: 0.757086\n",
      "[180]\tvalid_0's auc: 0.759095\n",
      "[200]\tvalid_0's auc: 0.760745\n",
      "[220]\tvalid_0's auc: 0.762103\n",
      "[240]\tvalid_0's auc: 0.763385\n",
      "[260]\tvalid_0's auc: 0.764625\n",
      "[280]\tvalid_0's auc: 0.76593\n",
      "[300]\tvalid_0's auc: 0.767185\n",
      "[320]\tvalid_0's auc: 0.768304\n",
      "[340]\tvalid_0's auc: 0.76931\n",
      "[360]\tvalid_0's auc: 0.770165\n",
      "[380]\tvalid_0's auc: 0.771013\n",
      "[400]\tvalid_0's auc: 0.77176\n",
      "[420]\tvalid_0's auc: 0.772523\n",
      "[440]\tvalid_0's auc: 0.773183\n",
      "[460]\tvalid_0's auc: 0.773861\n",
      "[480]\tvalid_0's auc: 0.77454\n",
      "[500]\tvalid_0's auc: 0.775063\n",
      "[520]\tvalid_0's auc: 0.775598\n",
      "[540]\tvalid_0's auc: 0.776101\n",
      "[560]\tvalid_0's auc: 0.77656\n",
      "[580]\tvalid_0's auc: 0.776996\n",
      "[600]\tvalid_0's auc: 0.777392\n",
      "[620]\tvalid_0's auc: 0.777749\n",
      "[640]\tvalid_0's auc: 0.778112\n",
      "[660]\tvalid_0's auc: 0.778455\n",
      "[680]\tvalid_0's auc: 0.778824\n",
      "[700]\tvalid_0's auc: 0.779153\n",
      "[720]\tvalid_0's auc: 0.779373\n",
      "[740]\tvalid_0's auc: 0.779628\n",
      "[760]\tvalid_0's auc: 0.779858\n",
      "[780]\tvalid_0's auc: 0.780024\n",
      "[800]\tvalid_0's auc: 0.780248\n",
      "[820]\tvalid_0's auc: 0.780546\n",
      "[840]\tvalid_0's auc: 0.780749\n",
      "[860]\tvalid_0's auc: 0.780942\n",
      "[880]\tvalid_0's auc: 0.781101\n",
      "[900]\tvalid_0's auc: 0.781228\n",
      "[920]\tvalid_0's auc: 0.781407\n",
      "[940]\tvalid_0's auc: 0.781589\n",
      "[960]\tvalid_0's auc: 0.78184\n",
      "[980]\tvalid_0's auc: 0.781952\n",
      "[1000]\tvalid_0's auc: 0.78213\n",
      "[1020]\tvalid_0's auc: 0.782272\n",
      "[1040]\tvalid_0's auc: 0.782428\n",
      "[1060]\tvalid_0's auc: 0.782542\n",
      "[1080]\tvalid_0's auc: 0.782644\n",
      "[1100]\tvalid_0's auc: 0.78272\n",
      "[1120]\tvalid_0's auc: 0.782812\n",
      "[1140]\tvalid_0's auc: 0.782889\n",
      "[1160]\tvalid_0's auc: 0.782979\n",
      "[1180]\tvalid_0's auc: 0.78306\n",
      "[1200]\tvalid_0's auc: 0.783108\n",
      "[1220]\tvalid_0's auc: 0.783151\n",
      "[1240]\tvalid_0's auc: 0.78325\n",
      "[1260]\tvalid_0's auc: 0.783334\n",
      "[1280]\tvalid_0's auc: 0.783423\n",
      "[1300]\tvalid_0's auc: 0.783499\n",
      "[1320]\tvalid_0's auc: 0.783585\n",
      "[1340]\tvalid_0's auc: 0.783681\n",
      "[1360]\tvalid_0's auc: 0.783737\n",
      "[1380]\tvalid_0's auc: 0.783825\n",
      "[1400]\tvalid_0's auc: 0.783844\n",
      "[1420]\tvalid_0's auc: 0.783909\n",
      "[1440]\tvalid_0's auc: 0.78403\n",
      "[1460]\tvalid_0's auc: 0.784086\n",
      "[1480]\tvalid_0's auc: 0.7841\n",
      "[1500]\tvalid_0's auc: 0.784108\n",
      "[1520]\tvalid_0's auc: 0.784158\n",
      "[1540]\tvalid_0's auc: 0.784175\n",
      "[1560]\tvalid_0's auc: 0.784189\n",
      "[1580]\tvalid_0's auc: 0.784187\n",
      "[1600]\tvalid_0's auc: 0.784194\n",
      "[1620]\tvalid_0's auc: 0.784241\n",
      "[1640]\tvalid_0's auc: 0.78429\n",
      "[1660]\tvalid_0's auc: 0.784321\n",
      "[1680]\tvalid_0's auc: 0.784323\n",
      "[1700]\tvalid_0's auc: 0.784387\n",
      "[1720]\tvalid_0's auc: 0.784424\n",
      "[1740]\tvalid_0's auc: 0.784397\n",
      "[1760]\tvalid_0's auc: 0.784441\n",
      "[1780]\tvalid_0's auc: 0.784476\n",
      "[1800]\tvalid_0's auc: 0.784496\n",
      "[1820]\tvalid_0's auc: 0.784503\n",
      "[1840]\tvalid_0's auc: 0.784536\n",
      "[1860]\tvalid_0's auc: 0.784557\n",
      "[1880]\tvalid_0's auc: 0.784543\n",
      "[1900]\tvalid_0's auc: 0.784557\n",
      "[1920]\tvalid_0's auc: 0.784611\n",
      "[1940]\tvalid_0's auc: 0.784659\n",
      "[1960]\tvalid_0's auc: 0.784655\n",
      "[1980]\tvalid_0's auc: 0.784688\n",
      "[2000]\tvalid_0's auc: 0.78468\n",
      "[2020]\tvalid_0's auc: 0.784696\n",
      "[2040]\tvalid_0's auc: 0.784738\n",
      "[2060]\tvalid_0's auc: 0.784738\n",
      "[2080]\tvalid_0's auc: 0.784725\n",
      "[2100]\tvalid_0's auc: 0.784732\n",
      "[2120]\tvalid_0's auc: 0.784761\n",
      "[2140]\tvalid_0's auc: 0.784807\n",
      "[2160]\tvalid_0's auc: 0.78484\n",
      "[2180]\tvalid_0's auc: 0.784844\n",
      "[2200]\tvalid_0's auc: 0.784858\n",
      "[2220]\tvalid_0's auc: 0.784888\n",
      "[2240]\tvalid_0's auc: 0.784888\n",
      "[2260]\tvalid_0's auc: 0.784896\n",
      "[2280]\tvalid_0's auc: 0.784945\n",
      "[2300]\tvalid_0's auc: 0.784962\n",
      "[2320]\tvalid_0's auc: 0.784992\n",
      "[2340]\tvalid_0's auc: 0.784991\n",
      "[2360]\tvalid_0's auc: 0.784992\n",
      "[2380]\tvalid_0's auc: 0.784997\n",
      "[2400]\tvalid_0's auc: 0.785016\n",
      "[2420]\tvalid_0's auc: 0.785034\n",
      "[2440]\tvalid_0's auc: 0.785029\n",
      "[2460]\tvalid_0's auc: 0.785047\n",
      "[2480]\tvalid_0's auc: 0.785084\n",
      "[2500]\tvalid_0's auc: 0.785099\n",
      "[2520]\tvalid_0's auc: 0.785134\n",
      "[2540]\tvalid_0's auc: 0.785137\n",
      "[2560]\tvalid_0's auc: 0.785148\n",
      "[2580]\tvalid_0's auc: 0.785142\n",
      "[2600]\tvalid_0's auc: 0.785114\n",
      "[2620]\tvalid_0's auc: 0.785134\n",
      "[2640]\tvalid_0's auc: 0.785169\n",
      "[2660]\tvalid_0's auc: 0.785173\n",
      "[2680]\tvalid_0's auc: 0.785204\n",
      "[2700]\tvalid_0's auc: 0.785234\n",
      "[2720]\tvalid_0's auc: 0.785259\n",
      "[2740]\tvalid_0's auc: 0.78525\n",
      "[2760]\tvalid_0's auc: 0.785292\n",
      "[2780]\tvalid_0's auc: 0.785298\n",
      "[2800]\tvalid_0's auc: 0.785281\n",
      "[2820]\tvalid_0's auc: 0.785294\n",
      "[2840]\tvalid_0's auc: 0.785331\n",
      "[2860]\tvalid_0's auc: 0.785312\n",
      "[2880]\tvalid_0's auc: 0.78537\n",
      "[2900]\tvalid_0's auc: 0.785315\n",
      "[2920]\tvalid_0's auc: 0.785289\n",
      "[2940]\tvalid_0's auc: 0.785233\n",
      "[2960]\tvalid_0's auc: 0.785235\n",
      "[2980]\tvalid_0's auc: 0.785237\n",
      "Early stopping, best iteration is:\n",
      "[2881]\tvalid_0's auc: 0.785375\n"
     ]
    }
   ],
   "source": [
    "params = {'task': 'train', 'boosting_type': 'gbdt', 'objective': 'binary', 'metric': 'auc', \n",
    "          'learning_rate': 0.01, 'num_leaves': 48, 'num_iteration': 5000, 'verbose': 0 ,\n",
    "          'colsample_bytree':.8, 'subsample':.9, 'max_depth':7, 'reg_alpha':.1, 'reg_lambda':.1, \n",
    "          'min_split_gain':.01, 'min_child_weight':1}\n",
    "model = lgb.train(params, lgb_train, valid_sets=lgb_eval, early_stopping_rounds=100, verbose_eval=20)"
   ]
  },
  {
   "cell_type": "code",
   "execution_count": 16,
   "metadata": {
    "collapsed": true
   },
   "outputs": [
    {
     "data": {
      "text/html": [
       "<div>\n",
       "<style scoped>\n",
       "    .dataframe tbody tr th:only-of-type {\n",
       "        vertical-align: middle;\n",
       "    }\n",
       "\n",
       "    .dataframe tbody tr th {\n",
       "        vertical-align: top;\n",
       "    }\n",
       "\n",
       "    .dataframe thead th {\n",
       "        text-align: right;\n",
       "    }\n",
       "</style>\n",
       "<table border=\"1\" class=\"dataframe\">\n",
       "  <thead>\n",
       "    <tr style=\"text-align: right;\">\n",
       "      <th></th>\n",
       "      <th>TARGET</th>\n",
       "    </tr>\n",
       "    <tr>\n",
       "      <th>SK_ID_CURR</th>\n",
       "      <th></th>\n",
       "    </tr>\n",
       "  </thead>\n",
       "  <tbody>\n",
       "    <tr>\n",
       "      <th>100001</th>\n",
       "      <td>0.029054</td>\n",
       "    </tr>\n",
       "    <tr>\n",
       "      <th>100005</th>\n",
       "      <td>0.135915</td>\n",
       "    </tr>\n",
       "    <tr>\n",
       "      <th>100013</th>\n",
       "      <td>0.021276</td>\n",
       "    </tr>\n",
       "    <tr>\n",
       "      <th>100028</th>\n",
       "      <td>0.040734</td>\n",
       "    </tr>\n",
       "    <tr>\n",
       "      <th>100038</th>\n",
       "      <td>0.171187</td>\n",
       "    </tr>\n",
       "    <tr>\n",
       "      <th>100042</th>\n",
       "      <td>0.039324</td>\n",
       "    </tr>\n",
       "    <tr>\n",
       "      <th>100057</th>\n",
       "      <td>0.009885</td>\n",
       "    </tr>\n",
       "    <tr>\n",
       "      <th>100065</th>\n",
       "      <td>0.056642</td>\n",
       "    </tr>\n",
       "    <tr>\n",
       "      <th>100066</th>\n",
       "      <td>0.012039</td>\n",
       "    </tr>\n",
       "    <tr>\n",
       "      <th>100067</th>\n",
       "      <td>0.123784</td>\n",
       "    </tr>\n",
       "    <tr>\n",
       "      <th>100074</th>\n",
       "      <td>0.053582</td>\n",
       "    </tr>\n",
       "    <tr>\n",
       "      <th>100090</th>\n",
       "      <td>0.028551</td>\n",
       "    </tr>\n",
       "    <tr>\n",
       "      <th>100091</th>\n",
       "      <td>0.190108</td>\n",
       "    </tr>\n",
       "    <tr>\n",
       "      <th>100092</th>\n",
       "      <td>0.042945</td>\n",
       "    </tr>\n",
       "    <tr>\n",
       "      <th>100106</th>\n",
       "      <td>0.046330</td>\n",
       "    </tr>\n",
       "    <tr>\n",
       "      <th>100107</th>\n",
       "      <td>0.142454</td>\n",
       "    </tr>\n",
       "    <tr>\n",
       "      <th>100109</th>\n",
       "      <td>0.035719</td>\n",
       "    </tr>\n",
       "    <tr>\n",
       "      <th>100117</th>\n",
       "      <td>0.018485</td>\n",
       "    </tr>\n",
       "    <tr>\n",
       "      <th>100128</th>\n",
       "      <td>0.117779</td>\n",
       "    </tr>\n",
       "    <tr>\n",
       "      <th>100141</th>\n",
       "      <td>0.034669</td>\n",
       "    </tr>\n",
       "    <tr>\n",
       "      <th>100150</th>\n",
       "      <td>0.024870</td>\n",
       "    </tr>\n",
       "    <tr>\n",
       "      <th>100168</th>\n",
       "      <td>0.012466</td>\n",
       "    </tr>\n",
       "    <tr>\n",
       "      <th>100169</th>\n",
       "      <td>0.042150</td>\n",
       "    </tr>\n",
       "    <tr>\n",
       "      <th>100170</th>\n",
       "      <td>0.360809</td>\n",
       "    </tr>\n",
       "    <tr>\n",
       "      <th>100171</th>\n",
       "      <td>0.054019</td>\n",
       "    </tr>\n",
       "    <tr>\n",
       "      <th>100172</th>\n",
       "      <td>0.082442</td>\n",
       "    </tr>\n",
       "    <tr>\n",
       "      <th>100184</th>\n",
       "      <td>0.103642</td>\n",
       "    </tr>\n",
       "    <tr>\n",
       "      <th>100187</th>\n",
       "      <td>0.076275</td>\n",
       "    </tr>\n",
       "    <tr>\n",
       "      <th>100212</th>\n",
       "      <td>0.028484</td>\n",
       "    </tr>\n",
       "    <tr>\n",
       "      <th>100222</th>\n",
       "      <td>0.032847</td>\n",
       "    </tr>\n",
       "    <tr>\n",
       "      <th>...</th>\n",
       "      <td>...</td>\n",
       "    </tr>\n",
       "    <tr>\n",
       "      <th>455963</th>\n",
       "      <td>0.026728</td>\n",
       "    </tr>\n",
       "    <tr>\n",
       "      <th>455965</th>\n",
       "      <td>0.012143</td>\n",
       "    </tr>\n",
       "    <tr>\n",
       "      <th>456007</th>\n",
       "      <td>0.243490</td>\n",
       "    </tr>\n",
       "    <tr>\n",
       "      <th>456008</th>\n",
       "      <td>0.018264</td>\n",
       "    </tr>\n",
       "    <tr>\n",
       "      <th>456009</th>\n",
       "      <td>0.046982</td>\n",
       "    </tr>\n",
       "    <tr>\n",
       "      <th>456010</th>\n",
       "      <td>0.098695</td>\n",
       "    </tr>\n",
       "    <tr>\n",
       "      <th>456011</th>\n",
       "      <td>0.022191</td>\n",
       "    </tr>\n",
       "    <tr>\n",
       "      <th>456013</th>\n",
       "      <td>0.240012</td>\n",
       "    </tr>\n",
       "    <tr>\n",
       "      <th>456028</th>\n",
       "      <td>0.166663</td>\n",
       "    </tr>\n",
       "    <tr>\n",
       "      <th>456058</th>\n",
       "      <td>0.074021</td>\n",
       "    </tr>\n",
       "    <tr>\n",
       "      <th>456111</th>\n",
       "      <td>0.104002</td>\n",
       "    </tr>\n",
       "    <tr>\n",
       "      <th>456114</th>\n",
       "      <td>0.089152</td>\n",
       "    </tr>\n",
       "    <tr>\n",
       "      <th>456115</th>\n",
       "      <td>0.035044</td>\n",
       "    </tr>\n",
       "    <tr>\n",
       "      <th>456116</th>\n",
       "      <td>0.009668</td>\n",
       "    </tr>\n",
       "    <tr>\n",
       "      <th>456119</th>\n",
       "      <td>0.006396</td>\n",
       "    </tr>\n",
       "    <tr>\n",
       "      <th>456120</th>\n",
       "      <td>0.085413</td>\n",
       "    </tr>\n",
       "    <tr>\n",
       "      <th>456122</th>\n",
       "      <td>0.068436</td>\n",
       "    </tr>\n",
       "    <tr>\n",
       "      <th>456123</th>\n",
       "      <td>0.013352</td>\n",
       "    </tr>\n",
       "    <tr>\n",
       "      <th>456166</th>\n",
       "      <td>0.075832</td>\n",
       "    </tr>\n",
       "    <tr>\n",
       "      <th>456167</th>\n",
       "      <td>0.044609</td>\n",
       "    </tr>\n",
       "    <tr>\n",
       "      <th>456168</th>\n",
       "      <td>0.033296</td>\n",
       "    </tr>\n",
       "    <tr>\n",
       "      <th>456169</th>\n",
       "      <td>0.107226</td>\n",
       "    </tr>\n",
       "    <tr>\n",
       "      <th>456170</th>\n",
       "      <td>0.010931</td>\n",
       "    </tr>\n",
       "    <tr>\n",
       "      <th>456189</th>\n",
       "      <td>0.109771</td>\n",
       "    </tr>\n",
       "    <tr>\n",
       "      <th>456202</th>\n",
       "      <td>0.241459</td>\n",
       "    </tr>\n",
       "    <tr>\n",
       "      <th>456221</th>\n",
       "      <td>0.052230</td>\n",
       "    </tr>\n",
       "    <tr>\n",
       "      <th>456222</th>\n",
       "      <td>0.049102</td>\n",
       "    </tr>\n",
       "    <tr>\n",
       "      <th>456223</th>\n",
       "      <td>0.009453</td>\n",
       "    </tr>\n",
       "    <tr>\n",
       "      <th>456224</th>\n",
       "      <td>0.048011</td>\n",
       "    </tr>\n",
       "    <tr>\n",
       "      <th>456250</th>\n",
       "      <td>0.214186</td>\n",
       "    </tr>\n",
       "  </tbody>\n",
       "</table>\n",
       "<p>48744 rows × 1 columns</p>\n",
       "</div>"
      ],
      "text/plain": [
       "              TARGET\n",
       "SK_ID_CURR          \n",
       "100001      0.029054\n",
       "100005      0.135915\n",
       "100013      0.021276\n",
       "100028      0.040734\n",
       "100038      0.171187\n",
       "100042      0.039324\n",
       "100057      0.009885\n",
       "100065      0.056642\n",
       "100066      0.012039\n",
       "100067      0.123784\n",
       "100074      0.053582\n",
       "100090      0.028551\n",
       "100091      0.190108\n",
       "100092      0.042945\n",
       "100106      0.046330\n",
       "100107      0.142454\n",
       "100109      0.035719\n",
       "100117      0.018485\n",
       "100128      0.117779\n",
       "100141      0.034669\n",
       "100150      0.024870\n",
       "100168      0.012466\n",
       "100169      0.042150\n",
       "100170      0.360809\n",
       "100171      0.054019\n",
       "100172      0.082442\n",
       "100184      0.103642\n",
       "100187      0.076275\n",
       "100212      0.028484\n",
       "100222      0.032847\n",
       "...              ...\n",
       "455963      0.026728\n",
       "455965      0.012143\n",
       "456007      0.243490\n",
       "456008      0.018264\n",
       "456009      0.046982\n",
       "456010      0.098695\n",
       "456011      0.022191\n",
       "456013      0.240012\n",
       "456028      0.166663\n",
       "456058      0.074021\n",
       "456111      0.104002\n",
       "456114      0.089152\n",
       "456115      0.035044\n",
       "456116      0.009668\n",
       "456119      0.006396\n",
       "456120      0.085413\n",
       "456122      0.068436\n",
       "456123      0.013352\n",
       "456166      0.075832\n",
       "456167      0.044609\n",
       "456168      0.033296\n",
       "456169      0.107226\n",
       "456170      0.010931\n",
       "456189      0.109771\n",
       "456202      0.241459\n",
       "456221      0.052230\n",
       "456222      0.049102\n",
       "456223      0.009453\n",
       "456224      0.048011\n",
       "456250      0.214186\n",
       "\n",
       "[48744 rows x 1 columns]"
      ]
     },
     "execution_count": 16,
     "metadata": {},
     "output_type": "execute_result"
    }
   ],
   "source": [
    "test_Y_score = model.predict(testX)\n",
    "submit = pd.DataFrame({'SK_ID_CURR':testID.values, 'TARGET':test_Y_score})\n",
    "submit.set_index('SK_ID_CURR')"
   ]
  },
  {
   "cell_type": "markdown",
   "metadata": {},
   "source": [
    "# Submit The Results"
   ]
  },
  {
   "cell_type": "code",
   "execution_count": 17,
   "metadata": {},
   "outputs": [],
   "source": [
    "# Save the submission dataframe\n",
    "submit.to_csv('lightgbm1.csv', index = False)"
   ]
  },
  {
   "cell_type": "code",
   "execution_count": 29,
   "metadata": {},
   "outputs": [
    {
     "data": {
      "text/plain": [
       "array([100001, 100005, 100013, ..., 456223, 456224, 456250], dtype=int64)"
      ]
     },
     "execution_count": 29,
     "metadata": {},
     "output_type": "execute_result"
    }
   ],
   "source": [
    "testID.values"
   ]
  },
  {
   "cell_type": "code",
   "execution_count": null,
   "metadata": {},
   "outputs": [],
   "source": []
  }
 ],
 "metadata": {
  "kernelspec": {
   "display_name": "Python 3",
   "language": "python",
   "name": "python3"
  },
  "language_info": {
   "codemirror_mode": {
    "name": "ipython",
    "version": 3
   },
   "file_extension": ".py",
   "mimetype": "text/x-python",
   "name": "python",
   "nbconvert_exporter": "python",
   "pygments_lexer": "ipython3",
   "version": "3.6.5"
  }
 },
 "nbformat": 4,
 "nbformat_minor": 2
}
